{
  "cells": [
    {
      "cell_type": "markdown",
      "metadata": {
        "id": "view-in-github",
        "colab_type": "text"
      },
      "source": [
        "<a href=\"https://colab.research.google.com/github/Yogiistianto/BIg-Data/blob/main/(Rombel_01)_Hands_On_Week_1.ipynb\" target=\"_parent\"><img src=\"https://colab.research.google.com/assets/colab-badge.svg\" alt=\"Open In Colab\"/></a>"
      ]
    },
    {
      "cell_type": "code",
      "execution_count": null,
      "id": "5c007535",
      "metadata": {
        "colab": {
          "base_uri": "https://localhost:8080/"
        },
        "id": "5c007535",
        "outputId": "9f4ec6c7-ea26-4246-c80a-d2c2d74e9150"
      },
      "outputs": [
        {
          "output_type": "stream",
          "name": "stdout",
          "text": [
            "Requirement already satisfied: pyspark in /usr/local/lib/python3.12/dist-packages (3.5.1)\n",
            "Requirement already satisfied: py4j==0.10.9.7 in /usr/local/lib/python3.12/dist-packages (from pyspark) (0.10.9.7)\n"
          ]
        }
      ],
      "source": [
        "!pip install pyspark"
      ]
    },
    {
      "cell_type": "markdown",
      "id": "10c25d6f",
      "metadata": {
        "id": "10c25d6f"
      },
      "source": [
        "# Hands-On Pertemuan 1: Pengenalan Big Data dan Overview Teknologi"
      ]
    },
    {
      "cell_type": "markdown",
      "id": "7117dfdb",
      "metadata": {
        "id": "7117dfdb"
      },
      "source": [
        "## Tujuan\n",
        "Pada akhir praktikum ini, mahasiswa diharapkan mampu:\n",
        "1. Memahami konsep dasar Big Data.\n",
        "2. Menjelaskan karakteristik dan tantangan Big Data (Volume, Variety, Velocity, dan Veracity).\n",
        "3. Mengenal teknologi yang digunakan dalam ekosistem Big Data.\n",
        "4. Menginstal dan mengonfigurasi Anaconda untuk bekerja dengan alat Big Data seperti Hadoop dan Spark.\n",
        "5. Memulai praktik sederhana terkait pengolahan data menggunakan PySpark dan Pandas."
      ]
    },
    {
      "cell_type": "markdown",
      "id": "7e805141",
      "metadata": {
        "id": "7e805141"
      },
      "source": [
        "## Peralatan yang Dibutuhkan\n",
        "1. Anaconda (untuk manajemen lingkungan)\n",
        "2. Jupyter Notebook (bawaan dari Anaconda)\n",
        "3. PySpark (untuk pemrosesan data skala besar)\n",
        "4. Pandas (untuk data analysis)\n",
        "5. Python (bawaan dari Anaconda)"
      ]
    },
    {
      "cell_type": "markdown",
      "id": "8daa78a0",
      "metadata": {
        "id": "8daa78a0"
      },
      "source": [
        "## Langkah-Langkah Hands-On"
      ]
    },
    {
      "cell_type": "markdown",
      "id": "23b963c0",
      "metadata": {
        "id": "23b963c0"
      },
      "source": [
        "### 1. Instalasi Anaconda\n",
        "- **Langkah 1: Unduh dan Instal Anaconda**\n",
        "  Anaconda adalah platform distribusi Python yang menyertakan berbagai alat pengembangan, termasuk Jupyter Notebook. Ikuti langkah-langkah instalasi sesuai sistem operasi:\n",
        "  - Unduh Anaconda: [Download Anaconda](https://www.anaconda.com/products/individual)\n",
        "  - Instal sesuai instruksi yang ada di situs web tersebut (Windows/Mac/Linux).\n",
        "\n",
        "- **Langkah 2: Menginstal PySpark di Anaconda**\n",
        "  Setelah Anaconda terinstal, tambahkan PySpark:\n",
        "  ```bash\n",
        "  conda install -c conda-forge pyspark\n",
        "  ```\n",
        "\n",
        "- **Langkah 3: Menginstal Pandas**\n",
        "  Untuk memudahkan data analysis, install Pandas:\n",
        "  ```bash\n",
        "  conda install pandas\n",
        "  ```"
      ]
    },
    {
      "cell_type": "markdown",
      "id": "208f1a45",
      "metadata": {
        "id": "208f1a45"
      },
      "source": [
        "### 2. Pengenalan dan Praktik Dasar PySpark dan Pandas\n",
        "- **Langkah 1: Membuka Jupyter Notebook**\n",
        "  Setelah instalasi selesai, buka Jupyter Notebook melalui Anaconda Navigator atau melalui terminal dengan perintah:\n",
        "  ```bash\n",
        "  jupyter notebook\n",
        "  ```\n",
        "\n",
        "- **Langkah 2: Membuat Project Notebook Baru**\n",
        "  Di Jupyter Notebook, buat notebook baru untuk praktikum ini.\n",
        "\n",
        "- **Langkah 3: Praktik dengan PySpark**\n",
        "  Buat program sederhana untuk memulai dengan PySpark. Gunakan PySpark untuk membuat DataFrame dan memanipulasi data sederhana:"
      ]
    },
    {
      "cell_type": "code",
      "execution_count": null,
      "id": "f78a5053",
      "metadata": {
        "id": "f78a5053"
      },
      "outputs": [],
      "source": [
        "from pyspark.sql import SparkSession\n",
        "\n",
        "# Memulai Spark session\n",
        "spark = SparkSession.builder.appName(\"BigDataPractice\").getOrCreate()\n",
        "\n",
        "# Membuat DataFrame sederhana\n",
        "data = [(\"Ali\", 34), (\"Budi\", 23), (\"Citra\", 29), (\"Dina\", 45)]\n",
        "columns = [\"Nama\", \"Usia\"]\n",
        "df = spark.createDataFrame(data, columns)\n",
        "\n",
        "# Menampilkan DataFrame\n",
        "df.show()\n"
      ]
    },
    {
      "cell_type": "markdown",
      "id": "8747276f",
      "metadata": {
        "id": "8747276f"
      },
      "source": [
        "- **Tugas 1**: Jalankan kode di atas dan buat modifikasi dengan menambahkan data lain berupa kolom pekerjaan, hobi dan gender."
      ]
    },
    {
      "cell_type": "markdown",
      "id": "1f84a333",
      "metadata": {
        "id": "1f84a333"
      },
      "source": [
        "### 3. Praktik PySpark Lanjutan\n",
        "- **Latihan 1**: Memanipulasi Data dengan PySpark."
      ]
    },
    {
      "cell_type": "code",
      "execution_count": null,
      "id": "1f391ed5",
      "metadata": {
        "id": "1f391ed5"
      },
      "outputs": [],
      "source": [
        "from pyspark.sql import SparkSession\n",
        "\n",
        "# Memulai Spark session\n",
        "spark = SparkSession.builder.appName(\"BigDataPractice\").getOrCreate()\n",
        "\n",
        "# Membuat DataFrame sederhana\n",
        "data = [(\"Ali\", 34), (\"Budi\", 23), (\"Citra\", 29), (\"Dina\", 45)]\n",
        "columns = [\"Nama\", \"Usia\"]\n",
        "df = spark.createDataFrame(data, columns)\n",
        "\n",
        "# Menampilkan DataFrame\n",
        "df.show()\n",
        "\n",
        "# Filtering data\n",
        "df_filtered = df.filter(df['Usia'] > 30)\n",
        "df_filtered.show()\n",
        "\n",
        "# Menghitung rata-rata usia\n",
        "from pyspark.sql.functions import avg\n",
        "df.groupBy().agg(avg(\"Usia\")).show()\n",
        "\n",
        "# Mengurutkan data berdasarkan usia\n",
        "df_sorted = df.orderBy(\"Usia\", ascending=False)\n",
        "df_sorted.show()\n"
      ]
    },
    {
      "cell_type": "markdown",
      "id": "e06767bc",
      "metadata": {
        "id": "e06767bc"
      },
      "source": [
        "- **Tugas 2**: Lakukan filter, penghitungan rata-rata, dan pengurutan data menggunakan PySpark."
      ]
    },
    {
      "cell_type": "markdown",
      "id": "fe1e34a5",
      "metadata": {
        "id": "fe1e34a5"
      },
      "source": [
        "### 4. Praktik dengan Pandas\n",
        "- **Latihan 2**:  Buat DataFrame menggunakan Pandas:"
      ]
    },
    {
      "cell_type": "code",
      "execution_count": null,
      "id": "3f1f2ec1",
      "metadata": {
        "id": "3f1f2ec1"
      },
      "outputs": [],
      "source": [
        "import pandas as pd\n",
        "\n",
        "# Membuat DataFrame Pandas\n",
        "data_pandas = {\"Nama\": [\"Ali\", \"Budi\", \"Citra\", \"Dina\"], \"Usia\": [34, 23, 29, 45]}\n",
        "df_pandas = pd.DataFrame(data_pandas)\n",
        "\n",
        "# Menampilkan DataFrame Pandas\n",
        "df_pandas"
      ]
    },
    {
      "cell_type": "markdown",
      "id": "9da455f1",
      "metadata": {
        "id": "9da455f1"
      },
      "source": [
        "- **Tugas 3**: Modifikasi DataFrame Pandas dengan menambahkan kolom baru dan melakukan operasi seperti filtering data berdasarkan usia."
      ]
    },
    {
      "cell_type": "markdown",
      "id": "c0042b2b",
      "metadata": {
        "id": "c0042b2b"
      },
      "source": [
        "### 5. Praktik Pandas Lanjutan\n",
        "- **Latihan 3**: Penggunaan Pandas untuk operasi lebih kompleks."
      ]
    },
    {
      "cell_type": "code",
      "execution_count": null,
      "id": "e7a8142f",
      "metadata": {
        "id": "e7a8142f"
      },
      "outputs": [],
      "source": [
        "import pandas as pd\n",
        "\n",
        "# Membuat DataFrame Pandas\n",
        "data_pandas = {\"Nama\": [\"Ali\", \"Budi\", \"Citra\", \"Dina\"], \"Usia\": [34, 23, 29, 45]}\n",
        "df_pandas = pd.DataFrame(data_pandas)\n",
        "\n",
        "# Membuat DataFrame kedua\n",
        "data_pandas_2 = {\"Nama\": [\"Ali\", \"Budi\", \"Citra\", \"Dina\"], \"Pekerjaan\": [\"Dokter\", \"Guru\", \"Insinyur\", \"Perawat\"]}\n",
        "df_pandas_2 = pd.DataFrame(data_pandas_2)\n",
        "\n",
        "# Join antara dua DataFrame\n",
        "df_joined = pd.merge(df_pandas, df_pandas_2, on=\"Nama\")\n",
        "print(df_joined)\n",
        "\n",
        "# Menghitung statistik deskriptif\n",
        "print(df_pandas.describe())\n",
        "\n",
        "# Plotting Data\n",
        "import matplotlib.pyplot as plt\n",
        "df_pandas['Usia'].plot(kind='bar')\n",
        "plt.show()\n"
      ]
    },
    {
      "cell_type": "markdown",
      "id": "884ed75d",
      "metadata": {
        "id": "884ed75d"
      },
      "source": [
        "- **Tugas 4**: Lakukan penggabungan DataFrame dan visualisasikan data dengan Pandas."
      ]
    },
    {
      "cell_type": "markdown",
      "id": "bf671ba3",
      "metadata": {
        "id": "bf671ba3"
      },
      "source": [
        "### 5. Menggabungkan PySpark dan Pandas\n",
        "- **Latihan 4: Mengonversi DataFrame antara PySpark dan Pandas**\n",
        "  Praktik untuk convert DataFrame dari PySpark ke Pandas dan sebaliknya:\n"
      ]
    },
    {
      "cell_type": "code",
      "execution_count": null,
      "id": "337e123f",
      "metadata": {
        "id": "337e123f"
      },
      "outputs": [],
      "source": [
        "# Mengonversi DataFrame dari PySpark ke Pandas\n",
        "df_pandas_from_spark = df.toPandas()\n",
        "\n",
        "# Mengonversi DataFrame dari Pandas ke PySpark\n",
        "df_spark_from_pandas = spark.createDataFrame(df_pandas)\n",
        "\n",
        "# Menampilkan DataFrame hasil konversi\n",
        "df_pandas_from_spark, df_spark_from_pandas.show()"
      ]
    },
    {
      "cell_type": "markdown",
      "id": "2cba4e5c",
      "metadata": {
        "id": "2cba4e5c"
      },
      "source": [
        "- **Tugas 5**: Gunakan metode ini untuk menggabungkan data yang Anda buat di PySpark dengan data dari Pandas, kemudian lakukan analisis sederhana seperti menghitung rata-rata usia."
      ]
    },
    {
      "cell_type": "markdown",
      "id": "afdba6be",
      "metadata": {
        "id": "afdba6be"
      },
      "source": [
        "### 6. Konversi Data antara PySpark dan Pandas"
      ]
    },
    {
      "cell_type": "code",
      "execution_count": null,
      "id": "f863defc",
      "metadata": {
        "id": "f863defc"
      },
      "outputs": [],
      "source": [
        "# Mengonversi DataFrame dari PySpark ke Pandas\n",
        "df_pandas_from_spark = df.toPandas()\n",
        "\n",
        "# Mengonversi DataFrame dari Pandas ke PySpark\n",
        "df_spark_from_pandas = spark.createDataFrame(df_pandas)\n",
        "\n",
        "# Menampilkan DataFrame hasil konversi\n",
        "df_pandas_from_spark, df_spark_from_pandas.show()\n"
      ]
    },
    {
      "cell_type": "markdown",
      "id": "65adbe71",
      "metadata": {
        "id": "65adbe71"
      },
      "source": [
        "- **Tugas 6**: Gabungkan data dari PySpark dan Pandas, lalu lakukan operasi statistik seperti menghitung nilai maksimum usia."
      ]
    },
    {
      "cell_type": "markdown",
      "source": [
        "**Tugas 1**"
      ],
      "metadata": {
        "id": "vBwzxyh-rz39"
      },
      "id": "vBwzxyh-rz39"
    },
    {
      "cell_type": "code",
      "source": [
        "from pyspark.sql import SparkSession\n",
        "\n",
        "# Buat Spark Session\n",
        "spark = SparkSession.builder.appName(\"Tugas1\").getOrCreate()\n",
        "\n",
        "# Data awal + modifikasi sesuai tugas\n",
        "data = [\n",
        "    (\"Andi\", 23, \"Programmer\", \"Membaca\", \"Laki-laki\"),\n",
        "    (\"Budi\", 30, \"Desainer\", \"Menggambar\", \"Laki-laki\"),\n",
        "    (\"Citra\", 25, \"Guru\", \"Menyanyi\", \"Perempuan\"),\n",
        "    (\"Dewi\", 28, \"Dokter\", \"Olahraga\", \"Perempuan\"),\n",
        "    (\"Eka\", 35, \"Data Scientist\", \"Traveling\", \"Laki-laki\")\n",
        "]\n",
        "\n",
        "# Buat DataFrame PySpark\n",
        "df = spark.createDataFrame(data, [\"Nama\", \"Usia\", \"Pekerjaan\", \"Hobi\", \"Gender\"])\n",
        "\n",
        "# Tampilkan hasil\n",
        "df.show()"
      ],
      "metadata": {
        "colab": {
          "base_uri": "https://localhost:8080/"
        },
        "id": "bYKxHaYer4gO",
        "outputId": "7e8c0bca-d60d-4aec-8405-e330bc9f5343"
      },
      "id": "bYKxHaYer4gO",
      "execution_count": null,
      "outputs": [
        {
          "output_type": "stream",
          "name": "stdout",
          "text": [
            "+-----+----+--------------+----------+---------+\n",
            "| Nama|Usia|     Pekerjaan|      Hobi|   Gender|\n",
            "+-----+----+--------------+----------+---------+\n",
            "| Andi|  23|    Programmer|   Membaca|Laki-laki|\n",
            "| Budi|  30|      Desainer|Menggambar|Laki-laki|\n",
            "|Citra|  25|          Guru|  Menyanyi|Perempuan|\n",
            "| Dewi|  28|        Dokter|  Olahraga|Perempuan|\n",
            "|  Eka|  35|Data Scientist| Traveling|Laki-laki|\n",
            "+-----+----+--------------+----------+---------+\n",
            "\n"
          ]
        }
      ]
    },
    {
      "cell_type": "markdown",
      "source": [
        "**Latihan 1**"
      ],
      "metadata": {
        "id": "PIVOxCrNsaEq"
      },
      "id": "PIVOxCrNsaEq"
    },
    {
      "cell_type": "code",
      "source": [
        "from pyspark.sql.functions import avg\n",
        "\n",
        "# Filter: ambil orang yang usianya di atas 25\n",
        "df.filter(df[\"Usia\"] > 25).show()\n",
        "\n",
        "# Urutkan data berdasarkan usia\n",
        "df.orderBy(\"Usia\").show()\n",
        "\n",
        "# Hitung rata-rata usia\n",
        "df.select(avg(\"Usia\").alias(\"Rata-rata Usia\")).show()"
      ],
      "metadata": {
        "colab": {
          "base_uri": "https://localhost:8080/"
        },
        "id": "E42w00sNsiHr",
        "outputId": "4469fdb6-83eb-4116-a942-aaaaf5c5ad13"
      },
      "id": "E42w00sNsiHr",
      "execution_count": null,
      "outputs": [
        {
          "output_type": "stream",
          "name": "stdout",
          "text": [
            "+----+----+--------------+----------+---------+\n",
            "|Nama|Usia|     Pekerjaan|      Hobi|   Gender|\n",
            "+----+----+--------------+----------+---------+\n",
            "|Budi|  30|      Desainer|Menggambar|Laki-laki|\n",
            "|Dewi|  28|        Dokter|  Olahraga|Perempuan|\n",
            "| Eka|  35|Data Scientist| Traveling|Laki-laki|\n",
            "+----+----+--------------+----------+---------+\n",
            "\n",
            "+-----+----+--------------+----------+---------+\n",
            "| Nama|Usia|     Pekerjaan|      Hobi|   Gender|\n",
            "+-----+----+--------------+----------+---------+\n",
            "| Andi|  23|    Programmer|   Membaca|Laki-laki|\n",
            "|Citra|  25|          Guru|  Menyanyi|Perempuan|\n",
            "| Dewi|  28|        Dokter|  Olahraga|Perempuan|\n",
            "| Budi|  30|      Desainer|Menggambar|Laki-laki|\n",
            "|  Eka|  35|Data Scientist| Traveling|Laki-laki|\n",
            "+-----+----+--------------+----------+---------+\n",
            "\n",
            "+--------------+\n",
            "|Rata-rata Usia|\n",
            "+--------------+\n",
            "|          28.2|\n",
            "+--------------+\n",
            "\n"
          ]
        }
      ]
    },
    {
      "cell_type": "markdown",
      "source": [
        "**Tugas 2**"
      ],
      "metadata": {
        "id": "wL-p-vT_sufF"
      },
      "id": "wL-p-vT_sufF"
    },
    {
      "cell_type": "code",
      "source": [
        "from pyspark.sql.functions import avg\n",
        "\n",
        "# Filter: ambil orang dengan usia >= 28\n",
        "df.filter(df[\"Usia\"] >= 28).show()\n",
        "\n",
        "# Hitung rata-rata usia\n",
        "df.select(avg(\"Usia\").alias(\"Rata-rata Usia\")).show()\n",
        "\n",
        "# Urutkan berdasarkan usia descending\n",
        "df.orderBy(df[\"Usia\"].desc()).show()"
      ],
      "metadata": {
        "colab": {
          "base_uri": "https://localhost:8080/"
        },
        "id": "o7AeFDg1sxwL",
        "outputId": "4d91d178-82ca-4e2a-d323-582aa601e92c"
      },
      "id": "o7AeFDg1sxwL",
      "execution_count": null,
      "outputs": [
        {
          "output_type": "stream",
          "name": "stdout",
          "text": [
            "+----+----+--------------+----------+---------+\n",
            "|Nama|Usia|     Pekerjaan|      Hobi|   Gender|\n",
            "+----+----+--------------+----------+---------+\n",
            "|Budi|  30|      Desainer|Menggambar|Laki-laki|\n",
            "|Dewi|  28|        Dokter|  Olahraga|Perempuan|\n",
            "| Eka|  35|Data Scientist| Traveling|Laki-laki|\n",
            "+----+----+--------------+----------+---------+\n",
            "\n",
            "+--------------+\n",
            "|Rata-rata Usia|\n",
            "+--------------+\n",
            "|          28.2|\n",
            "+--------------+\n",
            "\n",
            "+-----+----+--------------+----------+---------+\n",
            "| Nama|Usia|     Pekerjaan|      Hobi|   Gender|\n",
            "+-----+----+--------------+----------+---------+\n",
            "|  Eka|  35|Data Scientist| Traveling|Laki-laki|\n",
            "| Budi|  30|      Desainer|Menggambar|Laki-laki|\n",
            "| Dewi|  28|        Dokter|  Olahraga|Perempuan|\n",
            "|Citra|  25|          Guru|  Menyanyi|Perempuan|\n",
            "| Andi|  23|    Programmer|   Membaca|Laki-laki|\n",
            "+-----+----+--------------+----------+---------+\n",
            "\n"
          ]
        }
      ]
    },
    {
      "cell_type": "markdown",
      "source": [
        "**latihan 2**"
      ],
      "metadata": {
        "id": "cQ2r-rG-0VYi"
      },
      "id": "cQ2r-rG-0VYi"
    },
    {
      "cell_type": "code",
      "source": [
        "import pandas as pd\n",
        "\n",
        "# Data contoh\n",
        "data_pandas = {\n",
        "    \"Nama\": [\"Andi\", \"Budi\", \"Citra\", \"Dewi\", \"Eka\"],\n",
        "    \"Usia\": [23, 30, 25, 28, 35],\n",
        "    \"Pekerjaan\": [\"Programmer\", \"Desainer\", \"Guru\", \"Dokter\", \"Data Scientist\"],\n",
        "    \"Hobi\": [\"Membaca\", \"Menggambar\", \"Menyanyi\", \"Olahraga\", \"Traveling\"],\n",
        "    \"Gender\": [\"Laki-laki\", \"Laki-laki\", \"Perempuan\", \"Perempuan\", \"Laki-laki\"]\n",
        "}\n",
        "\n",
        "# Buat DataFrame Pandas\n",
        "df_pandas = pd.DataFrame(data_pandas)\n",
        "\n",
        "# Tampilkan DataFrame\n",
        "print(df_pandas)"
      ],
      "metadata": {
        "colab": {
          "base_uri": "https://localhost:8080/"
        },
        "id": "OXN5_DlC0Yay",
        "outputId": "ee11fce8-7f6d-4c55-8b5d-a131c6c1ae72"
      },
      "id": "OXN5_DlC0Yay",
      "execution_count": null,
      "outputs": [
        {
          "output_type": "stream",
          "name": "stdout",
          "text": [
            "    Nama  Usia       Pekerjaan        Hobi     Gender\n",
            "0   Andi    23      Programmer     Membaca  Laki-laki\n",
            "1   Budi    30        Desainer  Menggambar  Laki-laki\n",
            "2  Citra    25            Guru    Menyanyi  Perempuan\n",
            "3   Dewi    28          Dokter    Olahraga  Perempuan\n",
            "4    Eka    35  Data Scientist   Traveling  Laki-laki\n"
          ]
        }
      ]
    },
    {
      "cell_type": "markdown",
      "source": [
        "**Tugas 3**"
      ],
      "metadata": {
        "id": "Tz1dozbb0gO9"
      },
      "id": "Tz1dozbb0gO9"
    },
    {
      "cell_type": "code",
      "source": [
        "# Tambahkan kolom baru, misalnya Status Usia\n",
        "df_pandas[\"Status Usia\"] = [\"Muda\" if usia < 30 else \"Dewasa\" for usia in df_pandas[\"Usia\"]]\n",
        "\n",
        "print(\"DataFrame dengan kolom baru:\")\n",
        "print(df_pandas)\n",
        "\n",
        "# Filtering: ambil data dengan usia < 30\n",
        "print(\"\\nFilter usia < 30:\")\n",
        "print(df_pandas[df_pandas[\"Usia\"] < 30])"
      ],
      "metadata": {
        "colab": {
          "base_uri": "https://localhost:8080/"
        },
        "id": "bG7XLA5g0awZ",
        "outputId": "8639fe06-8dab-4809-c9b4-25dfbae23e01"
      },
      "id": "bG7XLA5g0awZ",
      "execution_count": null,
      "outputs": [
        {
          "output_type": "stream",
          "name": "stdout",
          "text": [
            "DataFrame dengan kolom baru:\n",
            "    Nama  Usia       Pekerjaan        Hobi     Gender Status Usia\n",
            "0   Andi    23      Programmer     Membaca  Laki-laki        Muda\n",
            "1   Budi    30        Desainer  Menggambar  Laki-laki      Dewasa\n",
            "2  Citra    25            Guru    Menyanyi  Perempuan        Muda\n",
            "3   Dewi    28          Dokter    Olahraga  Perempuan        Muda\n",
            "4    Eka    35  Data Scientist   Traveling  Laki-laki      Dewasa\n",
            "\n",
            "Filter usia < 30:\n",
            "    Nama  Usia   Pekerjaan      Hobi     Gender Status Usia\n",
            "0   Andi    23  Programmer   Membaca  Laki-laki        Muda\n",
            "2  Citra    25        Guru  Menyanyi  Perempuan        Muda\n",
            "3   Dewi    28      Dokter  Olahraga  Perempuan        Muda\n"
          ]
        }
      ]
    },
    {
      "cell_type": "markdown",
      "source": [
        "**Latihan 3**"
      ],
      "metadata": {
        "id": "1wPzy2ss0xtl"
      },
      "id": "1wPzy2ss0xtl"
    },
    {
      "cell_type": "code",
      "source": [
        "# Hitung rata-rata usia berdasarkan Gender\n",
        "print(\"\\nRata-rata usia berdasarkan Gender:\")\n",
        "print(df_pandas.groupby(\"Gender\")[\"Usia\"].mean())\n",
        "\n",
        "# Hitung jumlah tiap pekerjaan\n",
        "print(\"\\nJumlah data berdasarkan Pekerjaan:\")\n",
        "print(df_pandas[\"Pekerjaan\"].value_counts())\n",
        "\n",
        "# Urutkan DataFrame berdasarkan usia dari tertinggi ke terendah\n",
        "print(\"\\nData urut usia descending:\")\n",
        "print(df_pandas.sort_values(\"Usia\", ascending=False))"
      ],
      "metadata": {
        "colab": {
          "base_uri": "https://localhost:8080/"
        },
        "id": "ZlxflnuG0xVu",
        "outputId": "aaf45f8e-9498-4412-87c5-a45aeda1804a"
      },
      "id": "ZlxflnuG0xVu",
      "execution_count": null,
      "outputs": [
        {
          "output_type": "stream",
          "name": "stdout",
          "text": [
            "\n",
            "Rata-rata usia berdasarkan Gender:\n",
            "Gender\n",
            "Laki-laki    29.333333\n",
            "Perempuan    26.500000\n",
            "Name: Usia, dtype: float64\n",
            "\n",
            "Jumlah data berdasarkan Pekerjaan:\n",
            "Pekerjaan\n",
            "Programmer        1\n",
            "Desainer          1\n",
            "Guru              1\n",
            "Dokter            1\n",
            "Data Scientist    1\n",
            "Name: count, dtype: int64\n",
            "\n",
            "Data urut usia descending:\n",
            "    Nama  Usia       Pekerjaan        Hobi     Gender Status Usia\n",
            "4    Eka    35  Data Scientist   Traveling  Laki-laki      Dewasa\n",
            "1   Budi    30        Desainer  Menggambar  Laki-laki      Dewasa\n",
            "3   Dewi    28          Dokter    Olahraga  Perempuan        Muda\n",
            "2  Citra    25            Guru    Menyanyi  Perempuan        Muda\n",
            "0   Andi    23      Programmer     Membaca  Laki-laki        Muda\n"
          ]
        }
      ]
    },
    {
      "cell_type": "markdown",
      "source": [
        "**Tugas 4**"
      ],
      "metadata": {
        "id": "sAsEc_yn1Ay3"
      },
      "id": "sAsEc_yn1Ay3"
    },
    {
      "cell_type": "code",
      "source": [
        "import matplotlib.pyplot as plt\n",
        "\n",
        "# DataFrame pertama (df_pandas dari sebelumnya)\n",
        "df1 = df_pandas\n",
        "\n",
        "# DataFrame kedua (misalnya berisi gaji tiap orang)\n",
        "data_gaji = {\n",
        "    \"Nama\": [\"Andi\", \"Budi\", \"Citra\", \"Dewi\", \"Eka\"],\n",
        "    \"Gaji\": [5000000, 6000000, 4500000, 7000000, 10000000]\n",
        "}\n",
        "df2 = pd.DataFrame(data_gaji)\n",
        "\n",
        "# Gabungkan DataFrame berdasarkan kolom Nama\n",
        "df_merged = pd.merge(df1, df2, on=\"Nama\")\n",
        "print(\"Hasil gabungan DataFrame:\")\n",
        "print(df_merged)\n",
        "\n",
        "# Visualisasi: grafik batang Gaji berdasarkan Nama\n",
        "plt.figure(figsize=(8,5))\n",
        "plt.bar(df_merged[\"Nama\"], df_merged[\"Gaji\"], color=\"skyblue\")\n",
        "plt.title(\"Visualisasi Gaji berdasarkan Nama\")\n",
        "plt.xlabel(\"Nama\")\n",
        "plt.ylabel(\"Gaji\")\n",
        "plt.show()"
      ],
      "metadata": {
        "colab": {
          "base_uri": "https://localhost:8080/",
          "height": 608
        },
        "id": "JpvSDo5B04LG",
        "outputId": "40c405e0-ce00-484f-dd44-a7aa5a78f76d"
      },
      "id": "JpvSDo5B04LG",
      "execution_count": null,
      "outputs": [
        {
          "output_type": "stream",
          "name": "stdout",
          "text": [
            "Hasil gabungan DataFrame:\n",
            "    Nama  Usia       Pekerjaan        Hobi     Gender Status Usia      Gaji\n",
            "0   Andi    23      Programmer     Membaca  Laki-laki        Muda   5000000\n",
            "1   Budi    30        Desainer  Menggambar  Laki-laki      Dewasa   6000000\n",
            "2  Citra    25            Guru    Menyanyi  Perempuan        Muda   4500000\n",
            "3   Dewi    28          Dokter    Olahraga  Perempuan        Muda   7000000\n",
            "4    Eka    35  Data Scientist   Traveling  Laki-laki      Dewasa  10000000\n"
          ]
        },
        {
          "output_type": "display_data",
          "data": {
            "text/plain": [
              "<Figure size 800x500 with 1 Axes>"
            ],
            "image/png": "[encoded data removed]"
          },
          "metadata": {}
        }
      ]
    },
    {
      "cell_type": "markdown",
      "source": [
        "**Latihan 4**"
      ],
      "metadata": {
        "id": "hcL0D1cY1TaA"
      },
      "id": "hcL0D1cY1TaA"
    },
    {
      "cell_type": "code",
      "source": [
        "# Dari PySpark ke Pandas\n",
        "df_pandas_from_spark = df.toPandas()\n",
        "print(\"DataFrame dari PySpark -> Pandas:\")\n",
        "print(df_pandas_from_spark)\n",
        "\n",
        "# Dari Pandas ke PySpark\n",
        "df_spark_from_pandas = spark.createDataFrame(df_pandas)\n",
        "print(\"\\nDataFrame dari Pandas -> PySpark:\")\n",
        "df_spark_from_pandas.show()"
      ],
      "metadata": {
        "colab": {
          "base_uri": "https://localhost:8080/"
        },
        "id": "O5S7u0Ka1RwJ",
        "outputId": "0feb11f4-5f97-4d8e-857d-abefc19eb2b5"
      },
      "id": "O5S7u0Ka1RwJ",
      "execution_count": null,
      "outputs": [
        {
          "output_type": "stream",
          "name": "stdout",
          "text": [
            "DataFrame dari PySpark -> Pandas:\n",
            "    Nama  Usia       Pekerjaan        Hobi     Gender\n",
            "0   Andi    23      Programmer     Membaca  Laki-laki\n",
            "1   Budi    30        Desainer  Menggambar  Laki-laki\n",
            "2  Citra    25            Guru    Menyanyi  Perempuan\n",
            "3   Dewi    28          Dokter    Olahraga  Perempuan\n",
            "4    Eka    35  Data Scientist   Traveling  Laki-laki\n",
            "\n",
            "DataFrame dari Pandas -> PySpark:\n",
            "+-----+----+--------------+----------+---------+-----------+\n",
            "| Nama|Usia|     Pekerjaan|      Hobi|   Gender|Status Usia|\n",
            "+-----+----+--------------+----------+---------+-----------+\n",
            "| Andi|  23|    Programmer|   Membaca|Laki-laki|       Muda|\n",
            "| Budi|  30|      Desainer|Menggambar|Laki-laki|     Dewasa|\n",
            "|Citra|  25|          Guru|  Menyanyi|Perempuan|       Muda|\n",
            "| Dewi|  28|        Dokter|  Olahraga|Perempuan|       Muda|\n",
            "|  Eka|  35|Data Scientist| Traveling|Laki-laki|     Dewasa|\n",
            "+-----+----+--------------+----------+---------+-----------+\n",
            "\n"
          ]
        }
      ]
    },
    {
      "cell_type": "markdown",
      "source": [
        "**Tugas 5**"
      ],
      "metadata": {
        "id": "v57ytxgg1fAu"
      },
      "id": "v57ytxgg1fAu"
    },
    {
      "cell_type": "code",
      "source": [
        "# Data dari PySpark (sudah ada df dari Tugas 1)\n",
        "df.show()\n",
        "\n",
        "# Data dari Pandas (df_pandas dari Latihan 2)\n",
        "print(df_pandas)\n",
        "\n",
        "# Konversi PySpark -> Pandas\n",
        "df_from_spark = df.toPandas()\n",
        "\n",
        "# Gabungkan kedua DataFrame Pandas berdasarkan \"Nama\"\n",
        "df_combined = pd.merge(df_from_spark, df_pandas, on=[\"Nama\", \"Usia\", \"Pekerjaan\", \"Hobi\", \"Gender\"])\n",
        "print(\"\\nData gabungan PySpark + Pandas:\")\n",
        "print(df_combined)\n",
        "\n",
        "# Analisis sederhana: rata-rata usia\n",
        "rata2_usia = df_combined[\"Usia\"].mean()\n",
        "print(\"\\nRata-rata Usia:\", rata2_usia)"
      ],
      "metadata": {
        "colab": {
          "base_uri": "https://localhost:8080/"
        },
        "id": "Le32XHTU1ZjE",
        "outputId": "0e0a8e73-d182-4186-a2c3-ba725c541981"
      },
      "id": "Le32XHTU1ZjE",
      "execution_count": null,
      "outputs": [
        {
          "output_type": "stream",
          "name": "stdout",
          "text": [
            "+-----+----+--------------+----------+---------+\n",
            "| Nama|Usia|     Pekerjaan|      Hobi|   Gender|\n",
            "+-----+----+--------------+----------+---------+\n",
            "| Andi|  23|    Programmer|   Membaca|Laki-laki|\n",
            "| Budi|  30|      Desainer|Menggambar|Laki-laki|\n",
            "|Citra|  25|          Guru|  Menyanyi|Perempuan|\n",
            "| Dewi|  28|        Dokter|  Olahraga|Perempuan|\n",
            "|  Eka|  35|Data Scientist| Traveling|Laki-laki|\n",
            "+-----+----+--------------+----------+---------+\n",
            "\n",
            "    Nama  Usia       Pekerjaan        Hobi     Gender Status Usia\n",
            "0   Andi    23      Programmer     Membaca  Laki-laki        Muda\n",
            "1   Budi    30        Desainer  Menggambar  Laki-laki      Dewasa\n",
            "2  Citra    25            Guru    Menyanyi  Perempuan        Muda\n",
            "3   Dewi    28          Dokter    Olahraga  Perempuan        Muda\n",
            "4    Eka    35  Data Scientist   Traveling  Laki-laki      Dewasa\n",
            "\n",
            "Data gabungan PySpark + Pandas:\n",
            "    Nama  Usia       Pekerjaan        Hobi     Gender Status Usia\n",
            "0   Andi    23      Programmer     Membaca  Laki-laki        Muda\n",
            "1   Budi    30        Desainer  Menggambar  Laki-laki      Dewasa\n",
            "2  Citra    25            Guru    Menyanyi  Perempuan        Muda\n",
            "3   Dewi    28          Dokter    Olahraga  Perempuan        Muda\n",
            "4    Eka    35  Data Scientist   Traveling  Laki-laki      Dewasa\n",
            "\n",
            "Rata-rata Usia: 28.2\n"
          ]
        }
      ]
    },
    {
      "cell_type": "markdown",
      "source": [
        "**Tugas 6**"
      ],
      "metadata": {
        "id": "NVCQfzrt1yjr"
      },
      "id": "NVCQfzrt1yjr"
    },
    {
      "cell_type": "code",
      "source": [
        "# Data dari PySpark (df) dan Pandas (df_pandas) sudah ada\n",
        "\n",
        "# Konversi PySpark ke Pandas\n",
        "df_from_spark = df.toPandas()\n",
        "\n",
        "# Gabungkan data (berdasarkan kolom \"Nama\")\n",
        "df_combined = pd.merge(df_from_spark, df_pandas, on=[\"Nama\", \"Usia\", \"Pekerjaan\", \"Hobi\", \"Gender\"])\n",
        "print(\"Data gabungan PySpark + Pandas:\")\n",
        "print(df_combined)\n",
        "\n",
        "# Operasi statistik: cari nilai maksimum usia\n",
        "max_usia = df_combined[\"Usia\"].max()\n",
        "print(\"\\nNilai maksimum usia:\", max_usia)"
      ],
      "metadata": {
        "colab": {
          "base_uri": "https://localhost:8080/"
        },
        "id": "oqjWcWc311ba",
        "outputId": "f9ea7b46-807a-46a9-b2f6-0edb5cf88557"
      },
      "id": "oqjWcWc311ba",
      "execution_count": null,
      "outputs": [
        {
          "output_type": "stream",
          "name": "stdout",
          "text": [
            "Data gabungan PySpark + Pandas:\n",
            "    Nama  Usia       Pekerjaan        Hobi     Gender Status Usia\n",
            "0   Andi    23      Programmer     Membaca  Laki-laki        Muda\n",
            "1   Budi    30        Desainer  Menggambar  Laki-laki      Dewasa\n",
            "2  Citra    25            Guru    Menyanyi  Perempuan        Muda\n",
            "3   Dewi    28          Dokter    Olahraga  Perempuan        Muda\n",
            "4    Eka    35  Data Scientist   Traveling  Laki-laki      Dewasa\n",
            "\n",
            "Nilai maksimum usia: 35\n"
          ]
        }
      ]
    }
  ],
  "metadata": {
    "kernelspec": {
      "display_name": "Python 3 (ipykernel)",
      "language": "python",
      "name": "python3"
    },
    "language_info": {
      "codemirror_mode": {
        "name": "ipython",
        "version": 3
      },
      "file_extension": ".py",
      "mimetype": "text/x-python",
      "name": "python",
      "nbconvert_exporter": "python",
      "pygments_lexer": "ipython3",
      "version": "3.11.9"
    },
    "colab": {
      "provenance": [],
      "include_colab_link": true
    }
  },
  "nbformat": 4,
  "nbformat_minor": 5
}